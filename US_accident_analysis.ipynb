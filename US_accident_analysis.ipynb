{
  "nbformat": 4,
  "nbformat_minor": 0,
  "metadata": {
    "accelerator": "GPU",
    "colab": {
      "name": "US-accident-analysis.ipynb",
      "provenance": [],
      "toc_visible": true,
      "authorship_tag": "ABX9TyNLlXrQHIXBZ5HjbooMNy2m",
      "include_colab_link": true
    },
    "kernelspec": {
      "display_name": "Python 3",
      "name": "python3"
    }
  },
  "cells": [
    {
      "cell_type": "markdown",
      "metadata": {
        "id": "view-in-github",
        "colab_type": "text"
      },
      "source": [
        "<a href=\"https://colab.research.google.com/github/prajwal0210/us-accidents/blob/main/US_accident_analysis.ipynb\" target=\"_parent\"><img src=\"https://colab.research.google.com/assets/colab-badge.svg\" alt=\"Open In Colab\"/></a>"
      ]
    },
    {
      "cell_type": "markdown",
      "metadata": {
        "id": "j1AR11U1AoFc"
      },
      "source": [
        "# **US accidents Exploratory data analysis**\n",
        "\n"
      ]
    },
    {
      "cell_type": "code",
      "metadata": {
        "id": "gH7m89OYCIak"
      },
      "source": [
        "pip install opendatasets --upgrade --quiet"
      ],
      "execution_count": null,
      "outputs": []
    },
    {
      "cell_type": "code",
      "metadata": {
        "colab": {
          "base_uri": "https://localhost:8080/"
        },
        "id": "JxMLgKMkCPmY",
        "outputId": "5c5678b4-3a5b-4322-b118-19fb3b2dcd8d"
      },
      "source": [
        "import opendatasets as od\n",
        "download_url = 'https://www.kaggle.com/sobhanmoosavi/us-accidents'\n",
        "od.download(download_url)"
      ],
      "execution_count": null,
      "outputs": [
        {
          "output_type": "stream",
          "text": [
            "Please provide your Kaggle credentials to download this dataset. Learn more: http://bit.ly/kaggle-creds\n",
            "Your Kaggle username: processor8085\n",
            "Your Kaggle Key: ··········\n"
          ],
          "name": "stdout"
        },
        {
          "output_type": "stream",
          "text": [
            "  3%|▎         | 10.0M/299M [00:00<00:03, 101MB/s]"
          ],
          "name": "stderr"
        },
        {
          "output_type": "stream",
          "text": [
            "Downloading us-accidents.zip to ./us-accidents\n"
          ],
          "name": "stdout"
        },
        {
          "output_type": "stream",
          "text": [
            "100%|██████████| 299M/299M [00:01<00:00, 268MB/s]\n"
          ],
          "name": "stderr"
        },
        {
          "output_type": "stream",
          "text": [
            "\n"
          ],
          "name": "stdout"
        }
      ]
    },
    {
      "cell_type": "code",
      "metadata": {
        "id": "jNQadUleDsXq"
      },
      "source": [
        "datafile_name = '/content/us-accidents/US_Accidents_Dec20.csv'"
      ],
      "execution_count": null,
      "outputs": []
    },
    {
      "cell_type": "markdown",
      "metadata": {
        "id": "y8930IDgA3P-"
      },
      "source": [
        "# **data preparation and cleaning**"
      ]
    },
    {
      "cell_type": "markdown",
      "metadata": {
        "id": "EnAGrkuQD4tM"
      },
      "source": [
        "1. Load file using pandas\n",
        "2. look at some information about the data and the columns\n",
        "3. fix any missing or incorrect values"
      ]
    },
    {
      "cell_type": "code",
      "metadata": {
        "id": "iQ3lKzLEETy-"
      },
      "source": [
        "import pandas as pd\n",
        "import numpy as np\n",
        "import matplotlib.pyplot as plt\n",
        "import seaborn as sns"
      ],
      "execution_count": null,
      "outputs": []
    },
    {
      "cell_type": "code",
      "metadata": {
        "id": "w4Wd-ELQEaOC"
      },
      "source": [
        "df = pd.read_csv(datafile_name)"
      ],
      "execution_count": null,
      "outputs": []
    },
    {
      "cell_type": "code",
      "metadata": {
        "colab": {
          "base_uri": "https://localhost:8080/"
        },
        "id": "kpP3_3S2GLiR",
        "outputId": "cbd581ce-f94c-495f-9f78-edba1531eee0"
      },
      "source": [
        "df.info()"
      ],
      "execution_count": null,
      "outputs": [
        {
          "output_type": "stream",
          "text": [
            "<class 'pandas.core.frame.DataFrame'>\n",
            "RangeIndex: 4232541 entries, 0 to 4232540\n",
            "Data columns (total 49 columns):\n",
            " #   Column                 Dtype  \n",
            "---  ------                 -----  \n",
            " 0   ID                     object \n",
            " 1   Source                 object \n",
            " 2   TMC                    float64\n",
            " 3   Severity               int64  \n",
            " 4   Start_Time             object \n",
            " 5   End_Time               object \n",
            " 6   Start_Lat              float64\n",
            " 7   Start_Lng              float64\n",
            " 8   End_Lat                float64\n",
            " 9   End_Lng                float64\n",
            " 10  Distance(mi)           float64\n",
            " 11  Description            object \n",
            " 12  Number                 float64\n",
            " 13  Street                 object \n",
            " 14  Side                   object \n",
            " 15  City                   object \n",
            " 16  County                 object \n",
            " 17  State                  object \n",
            " 18  Zipcode                object \n",
            " 19  Country                object \n",
            " 20  Timezone               object \n",
            " 21  Airport_Code           object \n",
            " 22  Weather_Timestamp      object \n",
            " 23  Temperature(F)         float64\n",
            " 24  Wind_Chill(F)          float64\n",
            " 25  Humidity(%)            float64\n",
            " 26  Pressure(in)           float64\n",
            " 27  Visibility(mi)         float64\n",
            " 28  Wind_Direction         object \n",
            " 29  Wind_Speed(mph)        float64\n",
            " 30  Precipitation(in)      float64\n",
            " 31  Weather_Condition      object \n",
            " 32  Amenity                bool   \n",
            " 33  Bump                   bool   \n",
            " 34  Crossing               bool   \n",
            " 35  Give_Way               bool   \n",
            " 36  Junction               bool   \n",
            " 37  No_Exit                bool   \n",
            " 38  Railway                bool   \n",
            " 39  Roundabout             bool   \n",
            " 40  Station                bool   \n",
            " 41  Stop                   bool   \n",
            " 42  Traffic_Calming        bool   \n",
            " 43  Traffic_Signal         bool   \n",
            " 44  Turning_Loop           bool   \n",
            " 45  Sunrise_Sunset         object \n",
            " 46  Civil_Twilight         object \n",
            " 47  Nautical_Twilight      object \n",
            " 48  Astronomical_Twilight  object \n",
            "dtypes: bool(13), float64(14), int64(1), object(21)\n",
            "memory usage: 1.2+ GB\n"
          ],
          "name": "stdout"
        }
      ]
    },
    {
      "cell_type": "code",
      "metadata": {
        "colab": {
          "base_uri": "https://localhost:8080/"
        },
        "id": "fwOhhvocIhk5",
        "outputId": "e1df6c99-e812-4bfd-8332-2035b684fd19"
      },
      "source": [
        "numerics = ['int16', 'int32', 'int64', 'float16', 'float32', 'float64']\n",
        "\n",
        "numeric_df = df.select_dtypes(include=numerics)\n",
        "len(numeric_df.columns)"
      ],
      "execution_count": null,
      "outputs": [
        {
          "output_type": "execute_result",
          "data": {
            "text/plain": [
              "15"
            ]
          },
          "metadata": {
            "tags": []
          },
          "execution_count": 7
        }
      ]
    },
    {
      "cell_type": "markdown",
      "metadata": {
        "id": "FFOswDYmKSMi"
      },
      "source": [
        "## percentage of missing values per column"
      ]
    },
    {
      "cell_type": "code",
      "metadata": {
        "colab": {
          "base_uri": "https://localhost:8080/"
        },
        "id": "7MIADEQhJiuJ",
        "outputId": "82fe7158-3f3d-4a4e-f1b7-d293ed4c08a5"
      },
      "source": [
        "#finding missing values\n",
        "missing_percentage = df.isna().sum().sort_values(ascending=False) * 100 /len(df)\n",
        "missing_percentage"
      ],
      "execution_count": null,
      "outputs": [
        {
          "output_type": "execute_result",
          "data": {
            "text/plain": [
              "End_Lat                  64.180760\n",
              "End_Lng                  64.180760\n",
              "Number                   63.506745\n",
              "Precipitation(in)        48.802575\n",
              "Wind_Chill(F)            44.795809\n",
              "TMC                      35.819240\n",
              "Wind_Speed(mph)          11.324781\n",
              "Visibility(mi)            2.331176\n",
              "Weather_Condition         2.324443\n",
              "Humidity(%)               2.255548\n",
              "Temperature(F)            2.124020\n",
              "Wind_Direction            1.975433\n",
              "Pressure(in)              1.804684\n",
              "Weather_Timestamp         1.480057\n",
              "Airport_Code              0.212000\n",
              "Timezone                  0.109036\n",
              "Zipcode                   0.030525\n",
              "Nautical_Twilight         0.003331\n",
              "Astronomical_Twilight     0.003331\n",
              "Civil_Twilight            0.003331\n",
              "Sunrise_Sunset            0.003331\n",
              "City                      0.003237\n",
              "Description               0.000047\n",
              "Amenity                   0.000000\n",
              "Street                    0.000000\n",
              "Source                    0.000000\n",
              "Severity                  0.000000\n",
              "Start_Time                0.000000\n",
              "End_Time                  0.000000\n",
              "Start_Lat                 0.000000\n",
              "Start_Lng                 0.000000\n",
              "Turning_Loop              0.000000\n",
              "Distance(mi)              0.000000\n",
              "Traffic_Signal            0.000000\n",
              "Side                      0.000000\n",
              "Bump                      0.000000\n",
              "County                    0.000000\n",
              "State                     0.000000\n",
              "Traffic_Calming           0.000000\n",
              "Country                   0.000000\n",
              "Stop                      0.000000\n",
              "Station                   0.000000\n",
              "Roundabout                0.000000\n",
              "Railway                   0.000000\n",
              "No_Exit                   0.000000\n",
              "Junction                  0.000000\n",
              "Give_Way                  0.000000\n",
              "Crossing                  0.000000\n",
              "ID                        0.000000\n",
              "dtype: float64"
            ]
          },
          "metadata": {
            "tags": []
          },
          "execution_count": 8
        }
      ]
    },
    {
      "cell_type": "code",
      "metadata": {
        "colab": {
          "base_uri": "https://localhost:8080/",
          "height": 281
        },
        "id": "1weNQey0J7_a",
        "outputId": "906e8381-18e6-4cac-a7d9-d2e41d56ce23"
      },
      "source": [
        "missing_percentage [missing_percentage != 0].plot(kind='barh')"
      ],
      "execution_count": null,
      "outputs": [
        {
          "output_type": "execute_result",
          "data": {
            "text/plain": [
              "<matplotlib.axes._subplots.AxesSubplot at 0x7fdad2e2af10>"
            ]
          },
          "metadata": {
            "tags": []
          },
          "execution_count": 9
        },
        {
          "output_type": "display_data",
          "data": {
            "image/png": "[encoded data removed]",
            "text/plain": [
              "<Figure size 432x288 with 1 Axes>"
            ]
          },
          "metadata": {
            "tags": [],
            "needs_background": "light"
          }
        }
      ]
    },
    {
      "cell_type": "markdown",
      "metadata": {
        "id": "TBya-DjgM7tY"
      },
      "source": [
        "## remove columns you don't use"
      ]
    },
    {
      "cell_type": "markdown",
      "metadata": {
        "id": "Ke6yD76vA68O"
      },
      "source": [
        "# **Exploratory analysis and visualization**"
      ]
    },
    {
      "cell_type": "markdown",
      "metadata": {
        "id": "yTIE3VxMONkL"
      },
      "source": [
        "## Column's to analyse\n",
        " 1. City\n",
        " 2. Start time\n",
        " 3. Start Lat, Start Lng\n",
        " 4. Temperature\n",
        " 5. Weather condition"
      ]
    },
    {
      "cell_type": "markdown",
      "metadata": {
        "id": "sAO9bs8f45XF"
      },
      "source": [
        "### City"
      ]
    },
    {
      "cell_type": "code",
      "metadata": {
        "colab": {
          "base_uri": "https://localhost:8080/"
        },
        "id": "hfzfp9rLEKQR",
        "outputId": "9812029c-48b3-4d4c-d8c0-c20ac475aaa7"
      },
      "source": [
        "cities = df.City.unique()\n",
        "len(cities)"
      ],
      "execution_count": null,
      "outputs": [
        {
          "output_type": "execute_result",
          "data": {
            "text/plain": [
              "12251"
            ]
          },
          "metadata": {
            "tags": []
          },
          "execution_count": 10
        }
      ]
    },
    {
      "cell_type": "code",
      "metadata": {
        "colab": {
          "base_uri": "https://localhost:8080/"
        },
        "id": "XJ6--OCtO7iN",
        "outputId": "15de15ca-dc12-4436-f0bb-f32eab2995e4"
      },
      "source": [
        "cities_by_accidents = df.City.value_counts()\n",
        "cities_by_accidents"
      ],
      "execution_count": null,
      "outputs": [
        {
          "output_type": "execute_result",
          "data": {
            "text/plain": [
              "Houston        114905\n",
              "Los Angeles     92701\n",
              "Charlotte       88887\n",
              "Dallas          77303\n",
              "Austin          70538\n",
              "                ...  \n",
              "Elroy               1\n",
              "State Line          1\n",
              "Gentryville         1\n",
              "Drayton             1\n",
              "Hawesville          1\n",
              "Name: City, Length: 12250, dtype: int64"
            ]
          },
          "metadata": {
            "tags": []
          },
          "execution_count": 11
        }
      ]
    },
    {
      "cell_type": "code",
      "metadata": {
        "colab": {
          "base_uri": "https://localhost:8080/"
        },
        "id": "ugm0eggYPtZm",
        "outputId": "86b7fb15-9786-47d7-a88e-e007e177fb40"
      },
      "source": [
        "cities_by_accidents[:20]"
      ],
      "execution_count": null,
      "outputs": [
        {
          "output_type": "execute_result",
          "data": {
            "text/plain": [
              "Houston          114905\n",
              "Los Angeles       92701\n",
              "Charlotte         88887\n",
              "Dallas            77303\n",
              "Austin            70538\n",
              "Miami             63162\n",
              "Raleigh           52876\n",
              "Atlanta           46328\n",
              "Baton Rouge       42814\n",
              "Nashville         41850\n",
              "Orlando           39561\n",
              "Oklahoma City     39484\n",
              "Sacramento        38061\n",
              "Phoenix           32805\n",
              "Minneapolis       31781\n",
              "San Diego         29416\n",
              "Seattle           28004\n",
              "Richmond          27907\n",
              "San Antonio       27516\n",
              "Jacksonville      24009\n",
              "Name: City, dtype: int64"
            ]
          },
          "metadata": {
            "tags": []
          },
          "execution_count": 12
        }
      ]
    },
    {
      "cell_type": "code",
      "metadata": {
        "colab": {
          "base_uri": "https://localhost:8080/"
        },
        "id": "9xG22q0-Te9-",
        "outputId": "533d7145-1505-4e74-b125-69bd85329f89"
      },
      "source": [
        "cities_by_accidents[:20].plot(kind='barh')"
      ],
      "execution_count": null,
      "outputs": [
        {
          "output_type": "execute_result",
          "data": {
            "text/plain": [
              "<matplotlib.axes._subplots.AxesSubplot at 0x7fdad2d82a10>"
            ]
          },
          "metadata": {
            "tags": []
          },
          "execution_count": 13
        },
        {
          "output_type": "display_data",
          "data": {
            "image/png": "[encoded data removed]",
            "text/plain": [
              "<Figure size 432x288 with 1 Axes>"
            ]
          },
          "metadata": {
            "tags": [],
            "needs_background": "light"
          }
        }
      ]
    },
    {
      "cell_type": "code",
      "metadata": {
        "id": "ybQvDPSmTe7B"
      },
      "source": [
        "sns.set_style(\"darkgrid\")"
      ],
      "execution_count": null,
      "outputs": []
    },
    {
      "cell_type": "code",
      "metadata": {
        "colab": {
          "base_uri": "https://localhost:8080/"
        },
        "id": "0oY1vny6PtRM",
        "outputId": "ebf0d39a-a256-4764-9d14-b3470b048d06"
      },
      "source": [
        "sns.histplot(cities_by_accidents, log_scale=True)"
      ],
      "execution_count": null,
      "outputs": [
        {
          "output_type": "execute_result",
          "data": {
            "text/plain": [
              "<matplotlib.axes._subplots.AxesSubplot at 0x7fdad2d69210>"
            ]
          },
          "metadata": {
            "tags": []
          },
          "execution_count": 15
        },
        {
          "output_type": "display_data",
          "data": {
            "image/png": "[encoded data removed]",
            "text/plain": [
              "<Figure size 432x288 with 1 Axes>"
            ]
          },
          "metadata": {
            "tags": []
          }
        }
      ]
    },
    {
      "cell_type": "code",
      "metadata": {
        "id": "2Ol2iKiXPs11"
      },
      "source": [
        "high_accident_cities = cities_by_accidents[cities_by_accidents >= 1000]\n",
        "low_accident_cities = cities_by_accidents[cities_by_accidents < 1000]"
      ],
      "execution_count": null,
      "outputs": []
    },
    {
      "cell_type": "code",
      "metadata": {
        "colab": {
          "base_uri": "https://localhost:8080/"
        },
        "id": "yd2P8XUd4MrW",
        "outputId": "8169f85f-a135-4e51-86b4-e09c2a319e2e"
      },
      "source": [
        "cities_by_accidents[cities_by_accidents == 1]"
      ],
      "execution_count": null,
      "outputs": [
        {
          "output_type": "execute_result",
          "data": {
            "text/plain": [
              "Cecilia         1\n",
              "Petroleum       1\n",
              "Gering          1\n",
              "Saint Hedwig    1\n",
              "Thayer          1\n",
              "               ..\n",
              "Elroy           1\n",
              "State Line      1\n",
              "Gentryville     1\n",
              "Drayton         1\n",
              "Hawesville      1\n",
              "Name: City, Length: 1267, dtype: int64"
            ]
          },
          "metadata": {
            "tags": []
          },
          "execution_count": 17
        }
      ]
    },
    {
      "cell_type": "markdown",
      "metadata": {
        "id": "zxRmGqDB4y5_"
      },
      "source": [
        "### Start time"
      ]
    },
    {
      "cell_type": "code",
      "metadata": {
        "colab": {
          "base_uri": "https://localhost:8080/"
        },
        "id": "e9bLTqnWzz1Y",
        "outputId": "63a478bc-5786-4a6e-da37-8aac8df84433"
      },
      "source": [
        "df.columns"
      ],
      "execution_count": null,
      "outputs": [
        {
          "output_type": "execute_result",
          "data": {
            "text/plain": [
              "Index(['ID', 'Source', 'TMC', 'Severity', 'Start_Time', 'End_Time',\n",
              "       'Start_Lat', 'Start_Lng', 'End_Lat', 'End_Lng', 'Distance(mi)',\n",
              "       'Description', 'Number', 'Street', 'Side', 'City', 'County', 'State',\n",
              "       'Zipcode', 'Country', 'Timezone', 'Airport_Code', 'Weather_Timestamp',\n",
              "       'Temperature(F)', 'Wind_Chill(F)', 'Humidity(%)', 'Pressure(in)',\n",
              "       'Visibility(mi)', 'Wind_Direction', 'Wind_Speed(mph)',\n",
              "       'Precipitation(in)', 'Weather_Condition', 'Amenity', 'Bump', 'Crossing',\n",
              "       'Give_Way', 'Junction', 'No_Exit', 'Railway', 'Roundabout', 'Station',\n",
              "       'Stop', 'Traffic_Calming', 'Traffic_Signal', 'Turning_Loop',\n",
              "       'Sunrise_Sunset', 'Civil_Twilight', 'Nautical_Twilight',\n",
              "       'Astronomical_Twilight'],\n",
              "      dtype='object')"
            ]
          },
          "metadata": {
            "tags": []
          },
          "execution_count": 18
        }
      ]
    },
    {
      "cell_type": "code",
      "metadata": {
        "colab": {
          "base_uri": "https://localhost:8080/"
        },
        "id": "ObPQ7sWo4XU9",
        "outputId": "32379a36-85bd-4c84-bbb0-57c3661e1e83"
      },
      "source": [
        "df.Start_Time"
      ],
      "execution_count": null,
      "outputs": [
        {
          "output_type": "execute_result",
          "data": {
            "text/plain": [
              "0          2016-02-08 05:46:00\n",
              "1          2016-02-08 06:07:59\n",
              "2          2016-02-08 06:49:27\n",
              "3          2016-02-08 07:23:34\n",
              "4          2016-02-08 07:39:07\n",
              "                  ...         \n",
              "4232536    2019-08-23 18:03:25\n",
              "4232537    2019-08-23 19:11:30\n",
              "4232538    2019-08-23 19:00:21\n",
              "4232539    2019-08-23 19:00:21\n",
              "4232540    2019-08-23 18:52:06\n",
              "Name: Start_Time, Length: 4232541, dtype: object"
            ]
          },
          "metadata": {
            "tags": []
          },
          "execution_count": 19
        }
      ]
    },
    {
      "cell_type": "code",
      "metadata": {
        "id": "3qs5VE5W4XMb"
      },
      "source": [
        "df.Start_Time = pd.to_datetime(df.Start_Time)"
      ],
      "execution_count": null,
      "outputs": []
    },
    {
      "cell_type": "code",
      "metadata": {
        "colab": {
          "base_uri": "https://localhost:8080/"
        },
        "id": "mBB0Z3Lt4XFH",
        "outputId": "156097b2-208b-4401-c9cb-2259ccd8953a"
      },
      "source": [
        "df.Start_Time[0].hour"
      ],
      "execution_count": null,
      "outputs": [
        {
          "output_type": "execute_result",
          "data": {
            "text/plain": [
              "5"
            ]
          },
          "metadata": {
            "tags": []
          },
          "execution_count": 21
        }
      ]
    },
    {
      "cell_type": "code",
      "metadata": {
        "colab": {
          "base_uri": "https://localhost:8080/"
        },
        "id": "gjpfnrJ_89kx",
        "outputId": "9b86ad89-150f-4fdd-af91-b8f561da0489"
      },
      "source": [
        "sns.distplot(df.Start_Time.dt.hour, bins=24,kde=False, norm_hist=True) "
      ],
      "execution_count": null,
      "outputs": [
        {
          "output_type": "stream",
          "text": [
            "/usr/local/lib/python3.7/dist-packages/seaborn/distributions.py:2557: FutureWarning: `distplot` is a deprecated function and will be removed in a future version. Please adapt your code to use either `displot` (a figure-level function with similar flexibility) or `histplot` (an axes-level function for histograms).\n",
            "  warnings.warn(msg, FutureWarning)\n"
          ],
          "name": "stderr"
        },
        {
          "output_type": "execute_result",
          "data": {
            "text/plain": [
              "<matplotlib.axes._subplots.AxesSubplot at 0x7fdad262f450>"
            ]
          },
          "metadata": {
            "tags": []
          },
          "execution_count": 22
        },
        {
          "output_type": "display_data",
          "data": {
            "image/png": "[encoded data removed]",
            "text/plain": [
              "<Figure size 432x288 with 1 Axes>"
            ]
          },
          "metadata": {
            "tags": []
          }
        }
      ]
    },
    {
      "cell_type": "markdown",
      "metadata": {
        "id": "1RDzoI3h-7Nx"
      },
      "source": [
        "- A high percentage of accidents occur between 6am - 10am ( probably people in hurry to get work)\n",
        "- Next highest percentage is 3pm - 6pm"
      ]
    },
    {
      "cell_type": "code",
      "metadata": {
        "colab": {
          "base_uri": "https://localhost:8080/"
        },
        "id": "DoVRJkSF89dG",
        "outputId": "3c91749e-6e1b-456c-8b59-8e3855f974f3"
      },
      "source": [
        "sns.distplot(df.Start_Time.dt.dayofweek, bins=7 ,kde=False, norm_hist=True) "
      ],
      "execution_count": null,
      "outputs": [
        {
          "output_type": "stream",
          "text": [
            "/usr/local/lib/python3.7/dist-packages/seaborn/distributions.py:2557: FutureWarning: `distplot` is a deprecated function and will be removed in a future version. Please adapt your code to use either `displot` (a figure-level function with similar flexibility) or `histplot` (an axes-level function for histograms).\n",
            "  warnings.warn(msg, FutureWarning)\n"
          ],
          "name": "stderr"
        },
        {
          "output_type": "execute_result",
          "data": {
            "text/plain": [
              "<matplotlib.axes._subplots.AxesSubplot at 0x7fdad25e9510>"
            ]
          },
          "metadata": {
            "tags": []
          },
          "execution_count": 23
        },
        {
          "output_type": "display_data",
          "data": {
            "image/png": "[encoded data removed]",
            "text/plain": [
              "<Figure size 432x288 with 1 Axes>"
            ]
          },
          "metadata": {
            "tags": []
          }
        }
      ]
    },
    {
      "cell_type": "markdown",
      "metadata": {
        "id": "rhxQNdw_0GnK"
      },
      "source": [
        "**during weekends we have less accidents** "
      ]
    },
    {
      "cell_type": "markdown",
      "metadata": {
        "id": "KRQj2b4UFY8-"
      },
      "source": [
        "Is the distribution of accidents by hour the same on weekends as on weekdays\n"
      ]
    },
    {
      "cell_type": "code",
      "metadata": {
        "id": "0-yQXqLO89Sb"
      },
      "source": [
        "sundays_start_time = df.Start_Time[df.Start_Time.dt.dayofweek==6]"
      ],
      "execution_count": null,
      "outputs": []
    },
    {
      "cell_type": "code",
      "metadata": {
        "colab": {
          "base_uri": "https://localhost:8080/"
        },
        "id": "MTSC3BWjHbDt",
        "outputId": "b6220da7-44c9-4f5c-a8cd-3b3f0843bfe8"
      },
      "source": [
        "sns.distplot(sundays_start_time.dt.hour, bins=24,kde=False, norm_hist=True) "
      ],
      "execution_count": null,
      "outputs": [
        {
          "output_type": "stream",
          "text": [
            "/usr/local/lib/python3.7/dist-packages/seaborn/distributions.py:2557: FutureWarning: `distplot` is a deprecated function and will be removed in a future version. Please adapt your code to use either `displot` (a figure-level function with similar flexibility) or `histplot` (an axes-level function for histograms).\n",
            "  warnings.warn(msg, FutureWarning)\n"
          ],
          "name": "stderr"
        },
        {
          "output_type": "execute_result",
          "data": {
            "text/plain": [
              "<matplotlib.axes._subplots.AxesSubplot at 0x7fdad2572a90>"
            ]
          },
          "metadata": {
            "tags": []
          },
          "execution_count": 25
        },
        {
          "output_type": "display_data",
          "data": {
            "image/png": "[encoded data removed]",
            "text/plain": [
              "<Figure size 432x288 with 1 Axes>"
            ]
          },
          "metadata": {
            "tags": []
          }
        }
      ]
    },
    {
      "cell_type": "code",
      "metadata": {
        "colab": {
          "base_uri": "https://localhost:8080/"
        },
        "id": "tr73I6Gt89Fw",
        "outputId": "b9039b83-1f70-4c80-c66c-f24436abe695"
      },
      "source": [
        "saturday_start_time =  df.Start_Time[df.Start_Time.dt.dayofweek==5]\n",
        "sns.distplot(saturday_start_time.dt.hour, bins=24,kde=False, norm_hist=True) "
      ],
      "execution_count": null,
      "outputs": [
        {
          "output_type": "stream",
          "text": [
            "/usr/local/lib/python3.7/dist-packages/seaborn/distributions.py:2557: FutureWarning: `distplot` is a deprecated function and will be removed in a future version. Please adapt your code to use either `displot` (a figure-level function with similar flexibility) or `histplot` (an axes-level function for histograms).\n",
            "  warnings.warn(msg, FutureWarning)\n"
          ],
          "name": "stderr"
        },
        {
          "output_type": "execute_result",
          "data": {
            "text/plain": [
              "<matplotlib.axes._subplots.AxesSubplot at 0x7fdad24a9b90>"
            ]
          },
          "metadata": {
            "tags": []
          },
          "execution_count": 26
        },
        {
          "output_type": "display_data",
          "data": {
            "image/png": "[encoded data removed]",
            "text/plain": [
              "<Figure size 432x288 with 1 Axes>"
            ]
          },
          "metadata": {
            "tags": []
          }
        }
      ]
    },
    {
      "cell_type": "code",
      "metadata": {
        "colab": {
          "base_uri": "https://localhost:8080/"
        },
        "id": "58DbfseG1hWV",
        "outputId": "65550f7a-e71c-451f-85f9-c9097685874f"
      },
      "source": [
        "monday_start_time =  df.Start_Time[df.Start_Time.dt.dayofweek==0]\n",
        "sns.distplot(monday_start_time.dt.hour, bins=24,kde=False, norm_hist=True) "
      ],
      "execution_count": null,
      "outputs": [
        {
          "output_type": "stream",
          "text": [
            "/usr/local/lib/python3.7/dist-packages/seaborn/distributions.py:2557: FutureWarning: `distplot` is a deprecated function and will be removed in a future version. Please adapt your code to use either `displot` (a figure-level function with similar flexibility) or `histplot` (an axes-level function for histograms).\n",
            "  warnings.warn(msg, FutureWarning)\n"
          ],
          "name": "stderr"
        },
        {
          "output_type": "execute_result",
          "data": {
            "text/plain": [
              "<matplotlib.axes._subplots.AxesSubplot at 0x7fdad250a950>"
            ]
          },
          "metadata": {
            "tags": []
          },
          "execution_count": 27
        },
        {
          "output_type": "display_data",
          "data": {
            "image/png": "[encoded data removed]",
            "text/plain": [
              "<Figure size 432x288 with 1 Axes>"
            ]
          },
          "metadata": {
            "tags": []
          }
        }
      ]
    },
    {
      "cell_type": "markdown",
      "metadata": {
        "id": "56LYsT3b2Vkq"
      },
      "source": [
        "on sundays the peek ouccurs between 10 am and 3 pm, unlike week days"
      ]
    },
    {
      "cell_type": "code",
      "metadata": {
        "colab": {
          "base_uri": "https://localhost:8080/"
        },
        "id": "0v4BGGpc29jn",
        "outputId": "df8e4611-6060-484b-ddfd-07491ec982e1"
      },
      "source": [
        "df_2019 = df[df.Start_Time.dt.year == 2019]\n",
        "sns.distplot(df_2019.Start_Time.dt.month, bins=12,kde=False, norm_hist=True) "
      ],
      "execution_count": null,
      "outputs": [
        {
          "output_type": "stream",
          "text": [
            "/usr/local/lib/python3.7/dist-packages/seaborn/distributions.py:2557: FutureWarning: `distplot` is a deprecated function and will be removed in a future version. Please adapt your code to use either `displot` (a figure-level function with similar flexibility) or `histplot` (an axes-level function for histograms).\n",
            "  warnings.warn(msg, FutureWarning)\n"
          ],
          "name": "stderr"
        },
        {
          "output_type": "execute_result",
          "data": {
            "text/plain": [
              "<matplotlib.axes._subplots.AxesSubplot at 0x7fdad235ee90>"
            ]
          },
          "metadata": {
            "tags": []
          },
          "execution_count": 28
        },
        {
          "output_type": "display_data",
          "data": {
            "image/png": "[encoded data removed]",
            "text/plain": [
              "<Figure size 432x288 with 1 Axes>"
            ]
          },
          "metadata": {
            "tags": []
          }
        }
      ]
    },
    {
      "cell_type": "markdown",
      "metadata": {
        "id": "2ZKnnz3S8fL7"
      },
      "source": [
        ""
      ]
    },
    {
      "cell_type": "code",
      "metadata": {
        "colab": {
          "base_uri": "https://localhost:8080/"
        },
        "id": "r9Kx3n_i7Zw3",
        "outputId": "003e12e9-4b6f-4f65-feab-6188268b494d"
      },
      "source": [
        "df.Source"
      ],
      "execution_count": null,
      "outputs": [
        {
          "output_type": "execute_result",
          "data": {
            "text/plain": [
              "0          MapQuest\n",
              "1          MapQuest\n",
              "2          MapQuest\n",
              "3          MapQuest\n",
              "4          MapQuest\n",
              "             ...   \n",
              "4232536        Bing\n",
              "4232537        Bing\n",
              "4232538        Bing\n",
              "4232539        Bing\n",
              "4232540        Bing\n",
              "Name: Source, Length: 4232541, dtype: object"
            ]
          },
          "metadata": {
            "tags": []
          },
          "execution_count": 29
        }
      ]
    },
    {
      "cell_type": "markdown",
      "metadata": {
        "id": "LF5q0tbN8ttG"
      },
      "source": [
        "Bing data"
      ]
    },
    {
      "cell_type": "code",
      "metadata": {
        "colab": {
          "base_uri": "https://localhost:8080/"
        },
        "id": "DTvIO3Fp8qPU",
        "outputId": "307be01d-6dbd-4271-b4fc-aedd8695d771"
      },
      "source": [
        "df_2019 = df[df.Start_Time.dt.year == 2019]\n",
        "df_2019_Bing = df_2019[df_2019.Source == 'Bing']\n",
        "sns.distplot(df_2019_Bing.Start_Time.dt.month, bins=12,kde=False, norm_hist=True) "
      ],
      "execution_count": null,
      "outputs": [
        {
          "output_type": "stream",
          "text": [
            "/usr/local/lib/python3.7/dist-packages/seaborn/distributions.py:2557: FutureWarning: `distplot` is a deprecated function and will be removed in a future version. Please adapt your code to use either `displot` (a figure-level function with similar flexibility) or `histplot` (an axes-level function for histograms).\n",
            "  warnings.warn(msg, FutureWarning)\n"
          ],
          "name": "stderr"
        },
        {
          "output_type": "execute_result",
          "data": {
            "text/plain": [
              "<matplotlib.axes._subplots.AxesSubplot at 0x7fdad25f2550>"
            ]
          },
          "metadata": {
            "tags": []
          },
          "execution_count": 30
        },
        {
          "output_type": "display_data",
          "data": {
            "image/png": "[encoded data removed]",
            "text/plain": [
              "<Figure size 432x288 with 1 Axes>"
            ]
          },
          "metadata": {
            "tags": []
          }
        }
      ]
    },
    {
      "cell_type": "markdown",
      "metadata": {
        "id": "5EwpEQnv8vzL"
      },
      "source": [
        "MapQuest Data"
      ]
    },
    {
      "cell_type": "code",
      "metadata": {
        "colab": {
          "base_uri": "https://localhost:8080/"
        },
        "id": "kUDUwz298sjx",
        "outputId": "6883464d-4716-46ef-c077-5e241a6756a4"
      },
      "source": [
        "df_2019 = df[df.Start_Time.dt.year == 2019]\n",
        "df_2019_MapQuest = df_2019[df_2019.Source == 'MapQuest']\n",
        "sns.distplot(df_2019_MapQuest.Start_Time.dt.month, bins=12,kde=False, norm_hist=True) "
      ],
      "execution_count": null,
      "outputs": [
        {
          "output_type": "stream",
          "text": [
            "/usr/local/lib/python3.7/dist-packages/seaborn/distributions.py:2557: FutureWarning: `distplot` is a deprecated function and will be removed in a future version. Please adapt your code to use either `displot` (a figure-level function with similar flexibility) or `histplot` (an axes-level function for histograms).\n",
            "  warnings.warn(msg, FutureWarning)\n"
          ],
          "name": "stderr"
        },
        {
          "output_type": "execute_result",
          "data": {
            "text/plain": [
              "<matplotlib.axes._subplots.AxesSubplot at 0x7fdad28d2ed0>"
            ]
          },
          "metadata": {
            "tags": []
          },
          "execution_count": 31
        },
        {
          "output_type": "display_data",
          "data": {
            "image/png": "[encoded data removed]",
            "text/plain": [
              "<Figure size 432x288 with 1 Axes>"
            ]
          },
          "metadata": {
            "tags": []
          }
        }
      ]
    },
    {
      "cell_type": "markdown",
      "metadata": {
        "id": "D2MLaEgF8_lO"
      },
      "source": [
        "- As you can see Bing data is quite unstable"
      ]
    },
    {
      "cell_type": "code",
      "metadata": {
        "colab": {
          "base_uri": "https://localhost:8080/"
        },
        "id": "SFlv8-EJ9Scf",
        "outputId": "af958868-b53f-4778-f797-f71e0358957e"
      },
      "source": [
        "df.Source.value_counts().plot(kind='pie')"
      ],
      "execution_count": null,
      "outputs": [
        {
          "output_type": "execute_result",
          "data": {
            "text/plain": [
              "<matplotlib.axes._subplots.AxesSubplot at 0x7fdad2264e50>"
            ]
          },
          "metadata": {
            "tags": []
          },
          "execution_count": 32
        },
        {
          "output_type": "display_data",
          "data": {
            "image/png": "[encoded data removed]",
            "text/plain": [
              "<Figure size 432x288 with 1 Axes>"
            ]
          },
          "metadata": {
            "tags": []
          }
        }
      ]
    },
    {
      "cell_type": "markdown",
      "metadata": {
        "id": "YJL7NORb9s6u"
      },
      "source": [
        "- you should consider excluding Bing data as it may have some issues"
      ]
    },
    {
      "cell_type": "markdown",
      "metadata": {
        "id": "9nXuKC6R-SCQ"
      },
      "source": [
        "# Start Lat & Start Long"
      ]
    },
    {
      "cell_type": "code",
      "metadata": {
        "colab": {
          "base_uri": "https://localhost:8080/"
        },
        "id": "3grdVaz4-YDG",
        "outputId": "05221bd9-5486-4ebb-cdb8-41ba74e15f6c"
      },
      "source": [
        "df.Start_Lat"
      ],
      "execution_count": null,
      "outputs": [
        {
          "output_type": "execute_result",
          "data": {
            "text/plain": [
              "0          39.865147\n",
              "1          39.928059\n",
              "2          39.063148\n",
              "3          39.747753\n",
              "4          39.627781\n",
              "             ...    \n",
              "4232536    34.002480\n",
              "4232537    32.766960\n",
              "4232538    33.775450\n",
              "4232539    33.992460\n",
              "4232540    34.133930\n",
              "Name: Start_Lat, Length: 4232541, dtype: float64"
            ]
          },
          "metadata": {
            "tags": []
          },
          "execution_count": 33
        }
      ]
    },
    {
      "cell_type": "code",
      "metadata": {
        "colab": {
          "base_uri": "https://localhost:8080/"
        },
        "id": "MMSZ6c_N-Zwk",
        "outputId": "4222b920-4d79-4844-f2bd-09c738fd6094"
      },
      "source": [
        "df.Start_Lng"
      ],
      "execution_count": null,
      "outputs": [
        {
          "output_type": "execute_result",
          "data": {
            "text/plain": [
              "0          -84.058723\n",
              "1          -82.831184\n",
              "2          -84.032608\n",
              "3          -84.205582\n",
              "4          -84.188354\n",
              "              ...    \n",
              "4232536   -117.379360\n",
              "4232537   -117.148060\n",
              "4232538   -117.847790\n",
              "4232539   -118.403020\n",
              "4232540   -117.230920\n",
              "Name: Start_Lng, Length: 4232541, dtype: float64"
            ]
          },
          "metadata": {
            "tags": []
          },
          "execution_count": 34
        }
      ]
    },
    {
      "cell_type": "code",
      "metadata": {
        "id": "ruEsYkbH-ZfU"
      },
      "source": [
        "sample_df = df.sample(int(0.1 * len(df)))"
      ],
      "execution_count": null,
      "outputs": []
    },
    {
      "cell_type": "code",
      "metadata": {
        "colab": {
          "base_uri": "https://localhost:8080/",
          "height": 299
        },
        "id": "vrD-V7U7-ZTp",
        "outputId": "a22c89c3-40f0-4163-e2e4-362668e0d1c8"
      },
      "source": [
        "sns.scatterplot(x = sample_df.Start_Lng, y = sample_df.Start_Lat)"
      ],
      "execution_count": null,
      "outputs": [
        {
          "output_type": "execute_result",
          "data": {
            "text/plain": [
              "<matplotlib.axes._subplots.AxesSubplot at 0x7fdad222ba90>"
            ]
          },
          "metadata": {
            "tags": []
          },
          "execution_count": 36
        },
        {
          "output_type": "display_data",
          "data": {
            "image/png": "[encoded data removed]",
            "text/plain": [
              "<Figure size 432x288 with 1 Axes>"
            ]
          },
          "metadata": {
            "tags": []
          }
        }
      ]
    },
    {
      "cell_type": "markdown",
      "metadata": {
        "id": "fp745Bl-KEhP"
      },
      "source": [
        "## Asigining points in map using folium"
      ]
    },
    {
      "cell_type": "code",
      "metadata": {
        "id": "7DapiSwkKDdj"
      },
      "source": [
        "from folium.plugins import HeatMap"
      ],
      "execution_count": null,
      "outputs": []
    },
    {
      "cell_type": "code",
      "metadata": {
        "colab": {
          "base_uri": "https://localhost:8080/"
        },
        "id": "CkWkoh1LKouL",
        "outputId": "49567bb0-7786-44a5-bc29-7bdda7cd8d3c"
      },
      "source": [
        "lat, lon = df.Start_Lat[0], df.Start_Lng[0]\n",
        "lat, lon"
      ],
      "execution_count": null,
      "outputs": [
        {
          "output_type": "execute_result",
          "data": {
            "text/plain": [
              "(39.865147, -84.058723)"
            ]
          },
          "metadata": {
            "tags": []
          },
          "execution_count": 49
        }
      ]
    },
    {
      "cell_type": "code",
      "metadata": {
        "colab": {
          "base_uri": "https://localhost:8080/"
        },
        "id": "jzojIhFWKZvz",
        "outputId": "d5670733-11cb-4c3b-ad22-8d366632caf6"
      },
      "source": [
        "for x in df[['Start_Lat','Start_Lng']].sample(100).iteritems():\n",
        "  print(x[1])"
      ],
      "execution_count": null,
      "outputs": [
        {
          "output_type": "stream",
          "text": [
            "2835399    34.030060\n",
            "740440     34.640461\n",
            "3484732    36.326285\n",
            "2982767    38.865930\n",
            "1733980    33.872898\n",
            "             ...    \n",
            "681747     43.205074\n",
            "3192095    38.594099\n",
            "563176     34.856758\n",
            "3034019    36.649394\n",
            "3280616    39.390640\n",
            "Name: Start_Lat, Length: 100, dtype: float64\n",
            "2835399   -118.441540\n",
            "740440     -82.448158\n",
            "3484732   -119.273850\n",
            "2982767    -77.051140\n",
            "1733980   -118.342369\n",
            "              ...    \n",
            "681747     -86.204964\n",
            "3192095    -76.045955\n",
            "563176     -82.459732\n",
            "3034019    -79.821767\n",
            "3280616    -76.712985\n",
            "Name: Start_Lng, Length: 100, dtype: float64\n"
          ],
          "name": "stdout"
        }
      ]
    },
    {
      "cell_type": "code",
      "metadata": {
        "colab": {
          "base_uri": "https://localhost:8080/"
        },
        "id": "O7I0zHEBq2Oz",
        "outputId": "cb55e8ad-a644-490b-c62b-161fc20ce3f7"
      },
      "source": [
        "zip(list(df.Start_Lat),list(df.Start_Lng))"
      ],
      "execution_count": null,
      "outputs": [
        {
          "output_type": "execute_result",
          "data": {
            "text/plain": [
              "<zip at 0x7fda7d89c370>"
            ]
          },
          "metadata": {
            "tags": []
          },
          "execution_count": 46
        }
      ]
    },
    {
      "cell_type": "code",
      "metadata": {
        "id": "gZ4w1i16sEWy"
      },
      "source": [
        "sample_df = df.sample(int(0.01 * len(df)))\n",
        "lat_lon_pairs = list(zip(list(sample_df.Start_Lat),list(sample_df.Start_Lng)))"
      ],
      "execution_count": null,
      "outputs": []
    },
    {
      "cell_type": "code",
      "metadata": {
        "colab": {
          "base_uri": "https://localhost:8080/",
          "height": 601
        },
        "id": "iZKZWh5wqA-Q",
        "outputId": "77ff6f7d-f734-4833-b56f-e37576a955bf"
      },
      "source": [
        "from folium.plugins import HeatMap\n",
        "\n",
        "map = folium.Map()\n",
        "\n",
        "\n",
        "folium.plugins.HeatMap(lat_lon_pairs[:100]).add_to(map)\n",
        "map"
      ],
      "execution_count": null,
      "outputs": [
        {
          "output_type": "execute_result",
          "data": {
            "text/html": [
              "<div style=\"width:100%;\"><div style=\"position:relative;width:100%;height:0;padding-bottom:60%;\"><span style=\"color:#565656\">Make this Notebook Trusted to load map: File -> Trust Notebook</span><iframe src=\"about:blank\" style=\"position:absolute;width:100%;height:100%;left:0;top:0;border:none !important;\" data-html=%3C%21DOCTYPE%20html%3E%0A%3Chead%3E%20%20%20%20%0A%20%20%20%20%3Cmeta%20http-equiv%3D%22content-type%22%20content%3D%22text/html%3B%20charset%3DUTF-8%22%20/%3E%0A%20%20%20%20%3Cscript%3EL_PREFER_CANVAS%3Dfalse%3B%20L_NO_TOUCH%3Dfalse%3B%20L_DISABLE_3D%3Dfalse%3B%3C/script%3E%0A%20%20%20%20%3Cscript%20src%3D%22https%3A//cdn.jsdelivr.net/npm/leaflet%401.4.0/dist/leaflet.js%22%3E%3C/script%3E%0A%20%20%20%20%3Cscript%20src%3D%22https%3A//code.jquery.com/jquery-1.12.4.min.js%22%3E%3C/script%3E%0A%20%20%20%20%3Cscript%20src%3D%22https%3A//maxcdn.bootstrapcdn.com/bootstrap/3.2.0/js/bootstrap.min.js%22%3E%3C/script%3E%0A%20%20%20%20%3Cscript%20src%3D%22https%3A//cdnjs.cloudflare.com/ajax/libs/Leaflet.awesome-markers/2.0.2/leaflet.awesome-markers.js%22%3E%3C/script%3E%0A%20%20%20%20%3Clink%20rel%3D%22stylesheet%22%20href%3D%22https%3A//cdn.jsdelivr.net/npm/leaflet%401.4.0/dist/leaflet.css%22/%3E%0A%20%20%20%20%3Clink%20rel%3D%22stylesheet%22%20href%3D%22https%3A//maxcdn.bootstrapcdn.com/bootstrap/3.2.0/css/bootstrap.min.css%22/%3E%0A%20%20%20%20%3Clink%20rel%3D%22stylesheet%22%20href%3D%22https%3A//maxcdn.bootstrapcdn.com/bootstrap/3.2.0/css/bootstrap-theme.min.css%22/%3E%0A%20%20%20%20%3Clink%20rel%3D%22stylesheet%22%20href%3D%22https%3A//maxcdn.bootstrapcdn.com/font-awesome/4.6.3/css/font-awesome.min.css%22/%3E%0A%20%20%20%20%3Clink%20rel%3D%22stylesheet%22%20href%3D%22https%3A//cdnjs.cloudflare.com/ajax/libs/Leaflet.awesome-markers/2.0.2/leaflet.awesome-markers.css%22/%3E%0A%20%20%20%20%3Clink%20rel%3D%22stylesheet%22%20href%3D%22https%3A//rawcdn.githack.com/python-visualization/folium/master/folium/templates/leaflet.awesome.rotate.css%22/%3E%0A%20%20%20%20%3Cstyle%3Ehtml%2C%20body%20%7Bwidth%3A%20100%25%3Bheight%3A%20100%25%3Bmargin%3A%200%3Bpadding%3A%200%3B%7D%3C/style%3E%0A%20%20%20%20%3Cstyle%3E%23map%20%7Bposition%3Aabsolute%3Btop%3A0%3Bbottom%3A0%3Bright%3A0%3Bleft%3A0%3B%7D%3C/style%3E%0A%20%20%20%20%0A%20%20%20%20%3Cmeta%20name%3D%22viewport%22%20content%3D%22width%3Ddevice-width%2C%0A%20%20%20%20%20%20%20%20initial-scale%3D1.0%2C%20maximum-scale%3D1.0%2C%20user-scalable%3Dno%22%20/%3E%0A%20%20%20%20%3Cstyle%3E%23map_e34d5395b42342708c2360e612cee2ee%20%7B%0A%20%20%20%20%20%20%20%20position%3A%20relative%3B%0A%20%20%20%20%20%20%20%20width%3A%20100.0%25%3B%0A%20%20%20%20%20%20%20%20height%3A%20100.0%25%3B%0A%20%20%20%20%20%20%20%20left%3A%200.0%25%3B%0A%20%20%20%20%20%20%20%20top%3A%200.0%25%3B%0A%20%20%20%20%20%20%20%20%7D%0A%20%20%20%20%3C/style%3E%0A%20%20%20%20%3Cscript%20src%3D%22https%3A//leaflet.github.io/Leaflet.heat/dist/leaflet-heat.js%22%3E%3C/script%3E%0A%3C/head%3E%0A%3Cbody%3E%20%20%20%20%0A%20%20%20%20%0A%20%20%20%20%3Cdiv%20class%3D%22folium-map%22%20id%3D%22map_e34d5395b42342708c2360e612cee2ee%22%20%3E%3C/div%3E%0A%3C/body%3E%0A%3Cscript%3E%20%20%20%20%0A%20%20%20%20%0A%20%20%20%20%0A%20%20%20%20%20%20%20%20var%20bounds%20%3D%20null%3B%0A%20%20%20%20%0A%0A%20%20%20%20var%20map_e34d5395b42342708c2360e612cee2ee%20%3D%20L.map%28%0A%20%20%20%20%20%20%20%20%27map_e34d5395b42342708c2360e612cee2ee%27%2C%20%7B%0A%20%20%20%20%20%20%20%20center%3A%20%5B0%2C%200%5D%2C%0A%20%20%20%20%20%20%20%20zoom%3A%201%2C%0A%20%20%20%20%20%20%20%20maxBounds%3A%20bounds%2C%0A%20%20%20%20%20%20%20%20layers%3A%20%5B%5D%2C%0A%20%20%20%20%20%20%20%20worldCopyJump%3A%20false%2C%0A%20%20%20%20%20%20%20%20crs%3A%20L.CRS.EPSG3857%2C%0A%20%20%20%20%20%20%20%20zoomControl%3A%20true%2C%0A%20%20%20%20%20%20%20%20%7D%29%3B%0A%0A%0A%20%20%20%20%0A%20%20%20%20var%20tile_layer_2c4b20d181f2402489c348819141ad90%20%3D%20L.tileLayer%28%0A%20%20%20%20%20%20%20%20%27https%3A//%7Bs%7D.tile.openstreetmap.org/%7Bz%7D/%7Bx%7D/%7By%7D.png%27%2C%0A%20%20%20%20%20%20%20%20%7B%0A%20%20%20%20%20%20%20%20%22attribution%22%3A%20null%2C%0A%20%20%20%20%20%20%20%20%22detectRetina%22%3A%20false%2C%0A%20%20%20%20%20%20%20%20%22maxNativeZoom%22%3A%2018%2C%0A%20%20%20%20%20%20%20%20%22maxZoom%22%3A%2018%2C%0A%20%20%20%20%20%20%20%20%22minZoom%22%3A%200%2C%0A%20%20%20%20%20%20%20%20%22noWrap%22%3A%20false%2C%0A%20%20%20%20%20%20%20%20%22opacity%22%3A%201%2C%0A%20%20%20%20%20%20%20%20%22subdomains%22%3A%20%22abc%22%2C%0A%20%20%20%20%20%20%20%20%22tms%22%3A%20false%0A%7D%29.addTo%28map_e34d5395b42342708c2360e612cee2ee%29%3B%0A%20%20%20%20%0A%20%20%20%20%20%20%20%20%20%20%20%20var%20heat_map_f68182bcf7224811bf87004c32b5abf9%20%3D%20L.heatLayer%28%0A%20%20%20%20%20%20%20%20%20%20%20%20%20%20%20%20%5B%5B40.623554%2C%20-111.903279%5D%2C%20%5B29.775709000000003%2C%20-95.26391600000001%5D%2C%20%5B43.615427000000004%2C%20-84.247359%5D%2C%20%5B42.901501%2C%20-78.89924599999999%5D%2C%20%5B35.781475%2C%20-78.57325%5D%2C%20%5B45.083999999999996%2C%20-93.181999%5D%2C%20%5B42.884783%2C%20-83.76902%5D%2C%20%5B37.218703999999995%2C%20-77.38943499999999%5D%2C%20%5B33.02163%2C%20-117.078884%5D%2C%20%5B28.405394%2C%20-80.70566600000001%5D%2C%20%5B33.744834999999995%2C%20-117.989372%5D%2C%20%5B25.889278%2C%20-80.209335%5D%2C%20%5B41.931453999999995%2C%20-87.939651%5D%2C%20%5B39.84798%2C%20-75.09573%5D%2C%20%5B39.901569%2C%20-76.789253%5D%2C%20%5B37.546478%2C%20-122.02146100000002%5D%2C%20%5B25.927560999999997%2C%20-80.207573%5D%2C%20%5B35.229546%2C%20-80.830833%5D%2C%20%5B41.87342%2C%20-87.81537%5D%2C%20%5B30.13123%2C%20-95.44426999999999%5D%2C%20%5B37.708546000000005%2C%20-122.16366599999999%5D%2C%20%5B30.456818%2C%20-91.127563%5D%2C%20%5B39.660656%2C%20-75.561836%5D%2C%20%5B41.80896%2C%20-88.117271%5D%2C%20%5B39.267708%2C%20-104.89632399999999%5D%2C%20%5B32.59724%2C%20-117.088995%5D%2C%20%5B40.679344%2C%20-74.003136%5D%2C%20%5B33.987331%2C%20-118.066597%5D%2C%20%5B44.083861999999996%2C%20-123.04711200000001%5D%2C%20%5B39.170196999999995%2C%20-76.730721%5D%2C%20%5B42.753929%2C%20-73.93363199999999%5D%2C%20%5B34.06389%2C%20-117.81483%5D%2C%20%5B41.969582%2C%20-88.11425799999999%5D%2C%20%5B33.255699%2C%20-111.94814299999999%5D%2C%20%5B31.773781%2C%20-106.47451000000001%5D%2C%20%5B33.887726%2C%20-117.26984399999999%5D%2C%20%5B35.30505%2C%20-80.85837%5D%2C%20%5B38.63685%2C%20-77.26929%5D%2C%20%5B29.829259999999998%2C%20-95.381371%5D%2C%20%5B29.608913%2C%20-95.20193%5D%2C%20%5B43.00284%2C%20-83.72316%5D%2C%20%5B33.495098%2C%20-112.112602%5D%2C%20%5B39.267086%2C%20-76.606133%5D%2C%20%5B34.335846000000004%2C%20-118.50782%5D%2C%20%5B34.033321%2C%20-118.029022%5D%2C%20%5B37.663305%2C%20-122.10591200000002%5D%2C%20%5B41.737805%2C%20-72.739037%5D%2C%20%5B40.095859999999995%2C%20-80.51916999999999%5D%2C%20%5B42.19213%2C%20-121.5957%5D%2C%20%5B42.996902%2C%20-83.705894%5D%2C%20%5B37.547709999999995%2C%20-77.483963%5D%2C%20%5B25.789072%2C%20-80.204353%5D%2C%20%5B39.018264%2C%20-122.59625700000001%5D%2C%20%5B38.121401%2C%20-121.40038999999999%5D%2C%20%5B33.646846999999994%2C%20-111.89289099999999%5D%2C%20%5B34.141171%2C%20-80.948051%5D%2C%20%5B35.83897%2C%20-78.542923%5D%2C%20%5B40.765440000000005%2C%20-111.93914%5D%2C%20%5B37.536251%2C%20-77.433037%5D%2C%20%5B34.21175%2C%20-118.22831000000001%5D%2C%20%5B35.938320000000004%2C%20-84.00865%5D%2C%20%5B25.652176%2C%20-80.330361%5D%2C%20%5B36.899139%2C%20-76.494591%5D%2C%20%5B41.301865%2C%20-96.057686%5D%2C%20%5B40.229595%2C%20-76.88987%5D%2C%20%5B32.8242%2C%20-96.668114%5D%2C%20%5B42.936394%2C%20-83.576875%5D%2C%20%5B38.202934%2C%20-120.369781%5D%2C%20%5B42.989731%2C%20-77.767128%5D%2C%20%5B34.15766%2C%20-118.35605600000001%5D%2C%20%5B34.136486%2C%20-117.44508400000001%5D%2C%20%5B42.87383%2C%20-71.34246%5D%2C%20%5B33.690121000000005%2C%20-84.500153%5D%2C%20%5B37.513973%2C%20-122.256027%5D%2C%20%5B43.03223%2C%20-87.95458%5D%2C%20%5B41.156464%2C%20-96.042938%5D%2C%20%5B29.703657%2C%20-95.62110899999999%5D%2C%20%5B35.915268%2C%20-79.056915%5D%2C%20%5B33.80291%2C%20-84.407372%5D%2C%20%5B34.869663%2C%20-82.416298%5D%2C%20%5B34.176497999999995%2C%20-80.97003199999999%5D%2C%20%5B25.784570000000002%2C%20-80.23617%5D%2C%20%5B45.696868%2C%20-121.35366699999999%5D%2C%20%5B30.49914%2C%20-84.33514%5D%2C%20%5B38.077549%2C%20-84.507462%5D%2C%20%5B33.716021999999995%2C%20-117.96698799999999%5D%2C%20%5B35.90806%2C%20-78.60067%5D%2C%20%5B40.690079%2C%20-73.574799%5D%2C%20%5B45.453639%2C%20-122.72187%5D%2C%20%5B41.97485%2C%20-88.087303%5D%2C%20%5B34.036552%2C%20-118.375183%5D%2C%20%5B26.57522%2C%20-81.6987%5D%2C%20%5B40.184765000000006%2C%20-75.227707%5D%2C%20%5B29.870945000000003%2C%20-95.41387900000001%5D%2C%20%5B34.034931%2C%20-118.36851499999999%5D%2C%20%5B30.334266999999997%2C%20-97.67259200000001%5D%2C%20%5B34.040081%2C%20-118.017021%5D%2C%20%5B25.910484%2C%20-80.157379%5D%2C%20%5B25.89281%2C%20-80.20962%5D%2C%20%5B40.305436%2C%20-78.82560600000001%5D%5D%2C%0A%20%20%20%20%20%20%20%20%20%20%20%20%20%20%20%20%7B%0A%20%20%20%20%20%20%20%20%20%20%20%20%20%20%20%20%20%20%20%20minOpacity%3A%200.5%2C%0A%20%20%20%20%20%20%20%20%20%20%20%20%20%20%20%20%20%20%20%20maxZoom%3A%2018%2C%0A%20%20%20%20%20%20%20%20%20%20%20%20%20%20%20%20%20%20%20%20max%3A%201.0%2C%0A%20%20%20%20%20%20%20%20%20%20%20%20%20%20%20%20%20%20%20%20radius%3A%2025%2C%0A%20%20%20%20%20%20%20%20%20%20%20%20%20%20%20%20%20%20%20%20blur%3A%2015%2C%0A%20%20%20%20%20%20%20%20%20%20%20%20%20%20%20%20%20%20%20%20gradient%3A%20null%0A%20%20%20%20%20%20%20%20%20%20%20%20%20%20%20%20%20%20%20%20%7D%29%0A%20%20%20%20%20%20%20%20%20%20%20%20%20%20%20%20.addTo%28map_e34d5395b42342708c2360e612cee2ee%29%3B%0A%20%20%20%20%20%20%20%20%0A%3C/script%3E onload=\"this.contentDocument.open();this.contentDocument.write(    decodeURIComponent(this.getAttribute('data-html')));this.contentDocument.close();\" allowfullscreen webkitallowfullscreen mozallowfullscreen></iframe></div></div>"
            ],
            "text/plain": [
              "<folium.folium.Map at 0x7fda5cdeb3d0>"
            ]
          },
          "metadata": {
            "tags": []
          },
          "execution_count": 62
        }
      ]
    },
    {
      "cell_type": "markdown",
      "metadata": {
        "id": "dTRBLZ7vBFmo"
      },
      "source": [
        "# **summary and conclusion**"
      ]
    },
    {
      "cell_type": "markdown",
      "metadata": {
        "id": "Y6ICzH2B3Otf"
      },
      "source": [
        "Insight:\n",
        "- No data from New York\n",
        "- Less than 5% of cities have more than 1000 yearly accidents\n",
        "- over 1200 cities have reported just one accident\n",
        "- the number of accidents per cities decreases/increases exponentially"
      ]
    }
  ]
}